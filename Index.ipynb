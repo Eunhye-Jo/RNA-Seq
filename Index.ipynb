 W{
 "cells": [
  {
   "cell_type": "markdown",
   "metadata": {},
   "source": [
    "# Welcome to Jupyter!"
   ]
  },
  {
   "cell_type": "markdown",
   "metadata": {},
   "source": [
    "This repo contains an introduction to [Jupyter](https://jupyter.org) and [IPython](https://ipython.org).\n",
    "\n",
    "Outline of some basics:\n",
    "\n",
    "* [Notebook Basics](../examples/Notebook/Notebook%20Basics.ipynb)\n",
    "* [IPython - beyond plain python](../examples/IPython%20Kernel/Beyond%20Plain%20Python.ipynb)\n",
    "* [Markdown Cells](../examples/Notebook/Working%20With%20Markdown%20Cells.ipynb)\n",
    "* [Rich Display System](../examples/IPython%20Kernel/Rich%20Output.ipynb)\n",
    "* [Custom Display logic](../examples/IPython%20Kernel/Custom%20Display%20Logic.ipynb)\n",
    "* [Running a Secure Public Notebook Server](../examples/Notebook/Running%20the%20Notebook%20Server.ipynb#Securing-the-notebook-server)\n",
    "* [How Jupyter works](../examples/Notebook/Multiple%20Languages%2C%20Frontends.ipynb) to run code in different languages."
   ]
  },
  {
   "cell_type": "markdown",
   "metadata": {},
   "source": [
    "You can also get this tutorial and run it on your laptop:\n",
    "\n",
    "    git clone https://github.com/ipython/ipython-in-depth\n",
    "\n",
    "Install IPython and Jupyter:\n",
    "\n",
    "with [conda](https://www.anaconda.com/download):\n",
    "\n",
    "    conda install ipython jupyter\n",
    "\n",
    "with pip:\n",
    "\n",
    "    # first, always upgrade pip!\n",
    "    pip install --upgrade pip\n",
    "    pip install --upgrade ipython jupyter\n",
    "\n",
    "Start the notebook in the tutorial directory:\n",
    "\n",
    "    cd ipython-in-depth\n",
    "    jupyter notebook"
   ]
  },
  {
   "cell_type": "markdown",
   "metadata": {},
   "source": [
    "# RNA-seq analysis pipline\n",
    "\n",
    "Raw data: fastq file\n",
    "\n",
    "Fastqc : quality check\n",
    "Trimmomatic : trimming and adapter & bases with low quality\n",
    "STAR : aligning RNA-seq reads to a reference\n",
    "RSEM: quantifying gene and isoform abundances, normalization\n",
    "ggplot in R : visualization with DEseq2, hclust, heatmap\n"
   ]
  },
  {
   "cell_type": "code",
   "execution_count": 13,
   "metadata": {},
   "outputs": [
    {
     "data": {
      "text/html": [
       "<div>\n",
       "<style scoped>\n",
       "    .dataframe tbody tr th:only-of-type {\n",
       "        vertical-align: middle;\n",
       "    }\n",
       "\n",
       "    .dataframe tbody tr th {\n",
       "        vertical-align: top;\n",
       "    }\n",
       "\n",
       "    .dataframe thead th {\n",
       "        text-align: right;\n",
       "    }\n",
       "</style>\n",
       "<table border=\"1\" class=\"dataframe\">\n",
       "  <thead>\n",
       "    <tr style=\"text-align: right;\">\n",
       "      <th></th>\n",
       "      <th>STEP</th>\n",
       "      <th>Contents</th>\n",
       "      <th>Tools</th>\n",
       "      <th>Output File</th>\n",
       "    </tr>\n",
       "  </thead>\n",
       "  <tbody>\n",
       "    <tr>\n",
       "      <th>0</th>\n",
       "      <td>1</td>\n",
       "      <td>quality check</td>\n",
       "      <td>Fastqc</td>\n",
       "      <td>html</td>\n",
       "    </tr>\n",
       "    <tr>\n",
       "      <th>1</th>\n",
       "      <td>2</td>\n",
       "      <td>trimming and adapter &amp; bases with low quality</td>\n",
       "      <td>Trimmomatic</td>\n",
       "      <td>trimmed fastq</td>\n",
       "    </tr>\n",
       "    <tr>\n",
       "      <th>2</th>\n",
       "      <td>3</td>\n",
       "      <td>aligning RNA-seq reads to a reference</td>\n",
       "      <td>STAR</td>\n",
       "      <td>Genome-mapped bam Transcriptome-mapped bam</td>\n",
       "    </tr>\n",
       "    <tr>\n",
       "      <th>3</th>\n",
       "      <td>4</td>\n",
       "      <td>quantifying gene and isoform abundances, norma...</td>\n",
       "      <td>RSEM</td>\n",
       "      <td>Expected count FPKM TPM</td>\n",
       "    </tr>\n",
       "    <tr>\n",
       "      <th>4</th>\n",
       "      <td>5</td>\n",
       "      <td>visualization with DEseq2, hclust, heatmap</td>\n",
       "      <td>ggplot in R</td>\n",
       "      <td>n</td>\n",
       "    </tr>\n",
       "  </tbody>\n",
       "</table>\n",
       "</div>"
      ],
      "text/plain": [
       "  STEP                                           Contents        Tools  \\\n",
       "0    1                                      quality check       Fastqc   \n",
       "1    2      trimming and adapter & bases with low quality  Trimmomatic   \n",
       "2    3              aligning RNA-seq reads to a reference         STAR   \n",
       "3    4  quantifying gene and isoform abundances, norma...         RSEM   \n",
       "4    5         visualization with DEseq2, hclust, heatmap  ggplot in R   \n",
       "\n",
       "                                  Output File  \n",
       "0                                        html  \n",
       "1                               trimmed fastq  \n",
       "2  Genome-mapped bam Transcriptome-mapped bam  \n",
       "3                     Expected count FPKM TPM  \n",
       "4                                           n  "
      ]
     },
     "execution_count": 13,
     "metadata": {},
     "output_type": "execute_result"
    }
   ],
   "source": [
    "import pandas as pd\n",
    "source={'STEP': [\"1\",\"2\",\"3\",\"4\",\"5\"], \n",
    "'Contents':[\"quality check\",\"trimming and adapter & bases with low quality\",\"aligning RNA-seq reads to a reference\",\"quantifying gene and isoform abundances, normalization\",\"visualization with DEseq2, hclust, heatmap\"], \n",
    "'Tools':[\"Fastqc\",\"Trimmomatic\", \"STAR\",\"RSEM\",\"ggplot in R\"],\n",
    "'Output File': [\"html\",\"trimmed fastq\",\"Genome-mapped bam Transcriptome-mapped bam\",\"Expected count FPKM TPM\",\"n\"]}\n",
    "\n",
    "DataA=pd.DataFrame(source)\n",
    "\n",
    "DataA"
   ]
  },
  {
   "cell_type": "code",
   "execution_count": null,
   "metadata": {},
   "outputs": [],
   "source": []
  }
 ],
 "metadata": {
  "kernelspec": {
   "display_name": "Python 3",
   "language": "python",
   "name": "python3"
  },
  "language_info": {
   "codemirror_mode": {
    "name": "ipython",
    "version": 3
   },
   "file_extension": ".py",
   "mimetype": "text/x-python",
   "name": "python",
   "nbconvert_exporter": "python",
   "pygments_lexer": "ipython3",
   "version": "3.6.13"
  }
 },
 "nbformat": 4,
 "nbformat_minor": 2
}
